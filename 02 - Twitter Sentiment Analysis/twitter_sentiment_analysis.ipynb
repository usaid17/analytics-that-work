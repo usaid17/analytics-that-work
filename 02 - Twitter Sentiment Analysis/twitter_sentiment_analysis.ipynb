{
 "cells": [
  {
   "cell_type": "markdown",
   "id": "8135532d",
   "metadata": {},
   "source": [
    "# 🐦 Twitter Sentiment Analysis (Live Tweets)\n",
    "\n",
    "> Analyzing the sentiment of real-time tweets using the Twitter API and TextBlob.\n",
    "\n",
    "This notebook connects to Twitter using the Tweepy API, pulls live tweets for a given query, analyzes their **polarity** and **subjectivity**, and stores the results in a CSV file."
   ]
  },
  {
   "cell_type": "code",
   "execution_count": null,
   "id": "e30b99e3",
   "metadata": {},
   "outputs": [],
   "source": [
    "import tweepy\n",
    "from textblob import TextBlob\n",
    "import csv\n",
    "import os"
   ]
  },
  {
   "cell_type": "markdown",
   "id": "b237f24f",
   "metadata": {},
   "source": [
    "### 🔐 API Key Handling\n",
    "Make sure to set the `TWITTER_BEARER_TOKEN` as an environment variable or load it from a `.env` file."
   ]
  },
  {
   "cell_type": "code",
   "execution_count": null,
   "id": "289102b0",
   "metadata": {},
   "outputs": [],
   "source": [
    "# Load bearer token from environment variable\n",
    "bearer_token = os.getenv(\"TWITTER_BEARER_TOKEN\")\n",
    "\n",
    "# Authenticate\n",
    "client = tweepy.Client(bearer_token=bearer_token)"
   ]
  },
  {
   "cell_type": "markdown",
   "id": "cebcd63a",
   "metadata": {},
   "source": [
    "### 🔍 Define the Query\n",
    "Change the topic here to analyze other trends or keywords."
   ]
  },
  {
   "cell_type": "code",
   "execution_count": null,
   "id": "c8a24888",
   "metadata": {},
   "outputs": [],
   "source": [
    "query = \"Israel vs Iran lang:en -is:retweet\""
   ]
  },
  {
   "cell_type": "markdown",
   "id": "543d7282",
   "metadata": {},
   "source": [
    "### 📥 Fetch Tweets"
   ]
  },
  {
   "cell_type": "code",
   "execution_count": null,
   "id": "254e4d6e",
   "metadata": {},
   "outputs": [],
   "source": [
    "response = client.search_recent_tweets(\n",
    "    query=query,\n",
    "    max_results=20,\n",
    "    tweet_fields=[\"text\", \"created_at\", \"author_id\"]\n",
    ")\n",
    "\n",
    "tweets = response.data\n",
    "print(f\"Fetched {len(tweets)} tweets.\")"
   ]
  },
  {
   "cell_type": "markdown",
   "id": "cf2eecb6",
   "metadata": {},
   "source": [
    "### 🧠 Analyze and Save Sentiment Data"
   ]
  },
  {
   "cell_type": "code",
   "execution_count": null,
   "id": "4a7f570f",
   "metadata": {},
   "outputs": [],
   "source": [
    "with open('tweet_sentiments.csv', 'w', newline='', encoding='utf-8') as csvfile:\n",
    "    fieldnames = ['Tweet', 'Polarity', 'Subjectivity']\n",
    "    writer = csv.DictWriter(csvfile, fieldnames=fieldnames)\n",
    "    writer.writeheader()\n",
    "\n",
    "    for tweet in tweets:\n",
    "        text = tweet.text.replace('\\n', '').strip()\n",
    "        analysis = TextBlob(text)\n",
    "        polarity = round(analysis.polarity, 3)\n",
    "        subjectivity = round(analysis.subjectivity, 3)\n",
    "\n",
    "        print(\"Tweet:\")\n",
    "        print(f\"  {text[:150]}{'...' if len(text) > 150 else ''}\")\n",
    "        print(f\"Sentiment -> Polarity: {polarity}, Subjectivity: {subjectivity}\")\n",
    "        print(\"-\" * 80)\n",
    "\n",
    "        writer.writerow({\n",
    "            'Tweet': text,\n",
    "            'Polarity': polarity,\n",
    "            'Subjectivity': subjectivity\n",
    "        })"
   ]
  },
  {
   "cell_type": "markdown",
   "id": "a0723e70",
   "metadata": {},
   "source": [
    "### 📁 View Saved Results"
   ]
  },
  {
   "cell_type": "code",
   "execution_count": null,
   "id": "9a2a66bf",
   "metadata": {},
   "outputs": [],
   "source": [
    "import pandas as pd\n",
    "df = pd.read_csv(\"tweet_sentiments.csv\")\n",
    "df.head()"
   ]
  }
 ],
 "metadata": {},
 "nbformat": 4,
 "nbformat_minor": 5
}
