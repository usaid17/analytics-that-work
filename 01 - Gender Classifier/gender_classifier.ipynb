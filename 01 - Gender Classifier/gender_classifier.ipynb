{
  "nbformat": 4,
  "nbformat_minor": 0,
  "metadata": {
    "colab": {
      "provenance": []
    },
    "kernelspec": {
      "name": "python3",
      "display_name": "Python 3"
    },
    "language_info": {
      "name": "python"
    }
  },
  "cells": [
    {
      "cell_type": "markdown",
      "source": [
        "# 🧠 Gender Classifier using Decision Tree\n",
        "\n",
        "This notebook builds a simple decision tree model to classify gender based on height, weight, and shoe size."
      ],
      "metadata": {
        "id": "sXzcC0S57K-N"
      }
    },
    {
      "cell_type": "code",
      "execution_count": 5,
      "metadata": {
        "id": "T3YPNbJQ665x"
      },
      "outputs": [],
      "source": [
        "import csv\n",
        "from sklearn import tree"
      ]
    },
    {
      "cell_type": "markdown",
      "source": [
        "## 📁 Dataset\n",
        "\n",
        "We're using a small CSV file (`gender.csv`) with the following columns:\n",
        "- Height (in cm)\n",
        "- Weight (in kg)\n",
        "- Shoe Size\n",
        "- Gender (M or F)"
      ],
      "metadata": {
        "id": "19A-VeTK7c7D"
      }
    },
    {
      "cell_type": "code",
      "source": [
        "filename = 'hight.csv'\n",
        "\n",
        "x = []\n",
        "y = []\n",
        "\n",
        "with open(filename, 'r') as file:\n",
        "    reader = csv.reader(file)\n",
        "    next(reader)  # Skip header row\n",
        "\n",
        "    for row in reader:\n",
        "        features = [float(row[0]), float(row[1]), float(row[2])]\n",
        "        label = row[3]\n",
        "\n",
        "        x.append(features)\n",
        "        y.append(label)\n"
      ],
      "metadata": {
        "id": "LBtOqqu37fWH"
      },
      "execution_count": 6,
      "outputs": []
    },
    {
      "cell_type": "code",
      "source": [
        "clf = tree.DecisionTreeClassifier()\n",
        "\n",
        "clf = clf.fit(x,y)"
      ],
      "metadata": {
        "id": "SAofSFn69TbJ"
      },
      "execution_count": 7,
      "outputs": []
    },
    {
      "cell_type": "code",
      "source": [
        "prediction = clf.predict([[100,70,43], [180,90,57]])\n",
        "\n",
        "# Create a mapping\n",
        "gender_map = {'M': 'Male', 'F': 'Female'}\n",
        "result = gender_map[prediction[1]]\n",
        "\n",
        "print(result)"
      ],
      "metadata": {
        "colab": {
          "base_uri": "https://localhost:8080/"
        },
        "id": "jOlZrbef9VXX",
        "outputId": "cfaff8d0-5d58-485b-878e-872d0c054344"
      },
      "execution_count": 10,
      "outputs": [
        {
          "output_type": "stream",
          "name": "stdout",
          "text": [
            "Male\n"
          ]
        }
      ]
    },
    {
      "cell_type": "markdown",
      "source": [
        "## 🧠 Result\n",
        "\n",
        "The model predicted:\n",
        "- Sample 1 → Male\n",
        "- Sample 2 → Female\n",
        "\n",
        "This simple model demonstrates how we can make demographic predictions using basic traits."
      ],
      "metadata": {
        "id": "9nzERJPz9ifl"
      }
    },
    {
      "cell_type": "code",
      "source": [],
      "metadata": {
        "id": "EP8iK3ZL9rAy"
      },
      "execution_count": null,
      "outputs": []
    }
  ]
}